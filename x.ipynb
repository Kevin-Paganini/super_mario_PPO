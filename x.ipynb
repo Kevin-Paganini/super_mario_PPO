{
 "cells": [
  {
   "cell_type": "code",
   "execution_count": 1,
   "metadata": {},
   "outputs": [
    {
     "name": "stderr",
     "output_type": "stream",
     "text": [
      "UserWarning: Using SDL2 binaries from pysdl2-dll 2.28.4\n"
     ]
    },
    {
     "ename": "NameError",
     "evalue": "name '__file__' is not defined",
     "output_type": "error",
     "traceback": [
      "\u001b[1;31m---------------------------------------------------------------------------\u001b[0m",
      "\u001b[1;31mNameError\u001b[0m                                 Traceback (most recent call last)",
      "\u001b[1;32mc:\\POKEMON_RL\\x.ipynb Cell 1\u001b[0m line \u001b[0;36m7\n\u001b[0;32m      <a href='vscode-notebook-cell:/c%3A/POKEMON_RL/x.ipynb#W0sZmlsZQ%3D%3D?line=3'>4</a>\u001b[0m \u001b[39mfrom\u001b[39;00m \u001b[39mpyboy\u001b[39;00m \u001b[39mimport\u001b[39;00m PyBoy, WindowEvent\n\u001b[0;32m      <a href='vscode-notebook-cell:/c%3A/POKEMON_RL/x.ipynb#W0sZmlsZQ%3D%3D?line=5'>6</a>\u001b[0m \u001b[39m# Makes us able to import PyBoy from the directory below\u001b[39;00m\n\u001b[1;32m----> <a href='vscode-notebook-cell:/c%3A/POKEMON_RL/x.ipynb#W0sZmlsZQ%3D%3D?line=6'>7</a>\u001b[0m file_path \u001b[39m=\u001b[39m os\u001b[39m.\u001b[39mpath\u001b[39m.\u001b[39mdirname(os\u001b[39m.\u001b[39mpath\u001b[39m.\u001b[39mrealpath(\u001b[39m__file__\u001b[39;49m))\n\u001b[0;32m      <a href='vscode-notebook-cell:/c%3A/POKEMON_RL/x.ipynb#W0sZmlsZQ%3D%3D?line=7'>8</a>\u001b[0m sys\u001b[39m.\u001b[39mpath\u001b[39m.\u001b[39minsert(\u001b[39m0\u001b[39m, file_path \u001b[39m+\u001b[39m \u001b[39m\"\u001b[39m\u001b[39m/..\u001b[39m\u001b[39m\"\u001b[39m)\n\u001b[0;32m     <a href='vscode-notebook-cell:/c%3A/POKEMON_RL/x.ipynb#W0sZmlsZQ%3D%3D?line=9'>10</a>\u001b[0m \u001b[39m# Check if the ROM is given through argv\u001b[39;00m\n",
      "\u001b[1;31mNameError\u001b[0m: name '__file__' is not defined"
     ]
    }
   ],
   "source": [
    "import os\n",
    "import sys\n",
    "\n",
    "from pyboy import PyBoy, WindowEvent\n",
    "\n",
    "# Makes us able to import PyBoy from the directory below\n",
    "file_path = os.path.dirname(os.path.realpath(__file__))\n",
    "sys.path.insert(0, file_path + \"/..\")\n",
    "\n",
    "# Check if the ROM is given through argv\n",
    "if len(sys.argv) > 1:\n",
    "    filename = sys.argv[1]\n",
    "else:\n",
    "    print(\"Usage: python mario_boiler_plate.py [ROM file]\")\n",
    "    exit(1)\n",
    "\n",
    "quiet = \"--quiet\" in sys.argv\n",
    "pyboy = PyBoy(filename, window_type=\"headless\" if quiet else \"SDL2\", window_scale=3, debug=not quiet, game_wrapper=True)\n",
    "pyboy.set_emulation_speed(0)\n",
    "assert pyboy.cartridge_title() == \"SUPER MARIOLAN\"\n",
    "\n",
    "mario = pyboy.game_wrapper()\n",
    "mario.start_game()\n",
    "\n",
    "assert mario.score == 0\n",
    "assert mario.lives_left == 2\n",
    "assert mario.time_left == 400\n",
    "assert mario.world == (1, 1)\n",
    "assert mario.fitness == 0 # A built-in fitness score for AI development\n",
    "last_fitness = 0\n",
    "\n",
    "print(mario)\n",
    "\n",
    "pyboy.send_input(WindowEvent.PRESS_ARROW_RIGHT)\n",
    "for _ in range(1000):\n",
    "    assert mario.fitness >= last_fitness\n",
    "    last_fitness = mario.fitness\n",
    "\n",
    "    pyboy.tick()\n",
    "    if mario.lives_left == 1:\n",
    "        assert last_fitness == 27700\n",
    "        assert mario.fitness == 17700 # Loosing a live, means 10.000 points in this fitness scoring\n",
    "        print(mario)\n",
    "        break\n",
    "else:\n",
    "    print(\"Mario didn't die?\")\n",
    "    exit(2)\n",
    "\n",
    "mario.reset_game()\n",
    "assert mario.lives_left == 2\n",
    "\n",
    "pyboy.stop()"
   ]
  },
  {
   "cell_type": "code",
   "execution_count": null,
   "metadata": {},
   "outputs": [],
   "source": []
  }
 ],
 "metadata": {
  "kernelspec": {
   "display_name": "venv",
   "language": "python",
   "name": "python3"
  },
  "language_info": {
   "codemirror_mode": {
    "name": "ipython",
    "version": 3
   },
   "file_extension": ".py",
   "mimetype": "text/x-python",
   "name": "python",
   "nbconvert_exporter": "python",
   "pygments_lexer": "ipython3",
   "version": "3.10.7"
  }
 },
 "nbformat": 4,
 "nbformat_minor": 2
}
